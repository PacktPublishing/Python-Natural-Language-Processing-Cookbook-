{
 "cells": [
  {
   "cell_type": "markdown",
   "id": "3cb34437",
   "metadata": {},
   "source": [
    "# Finding patterns"
   ]
  },
  {
   "cell_type": "code",
   "execution_count": 1,
   "id": "06fdaede",
   "metadata": {},
   "outputs": [],
   "source": [
    "%run -i \"../util/file_utils.ipynb\"\n",
    "%run -i \"../util/lang_utils.ipynb\""
   ]
  },
  {
   "cell_type": "code",
   "execution_count": 2,
   "id": "0a234912",
   "metadata": {},
   "outputs": [],
   "source": [
    "from spacy.matcher import Matcher\n",
    "matcher = Matcher(small_model.vocab)\n",
    "# Filter noun chunks to those containing actual nouns\n",
    "patterns = [\n",
    "    [{\"POS\": \"NOUN\"}],\n",
    "    [{\"IS_ALPHA\": True}, {\"POS\": \"NOUN\"}], \n",
    "    [{\"IS_ALPHA\": True}, {\"IS_ALPHA\": True}, {\"POS\": \"NOUN\"}]\n",
    "]\n",
    "matcher.add(\"Noun\", patterns)"
   ]
  },
  {
   "cell_type": "code",
   "execution_count": 5,
   "id": "a01a4c3c",
   "metadata": {},
   "outputs": [
    {
     "name": "stdout",
     "output_type": "stream",
     "text": [
      "1882071534088494249 Noun 9 10 woman\n",
      "1882071534088494249 Noun 20 23 any other name\n",
      "1882071534088494249 Noun 21 23 other name\n",
      "1882071534088494249 Noun 22 23 name\n",
      "1882071534088494249 Noun 24 27 In his eyes\n",
      "1882071534088494249 Noun 25 27 his eyes\n",
      "1882071534088494249 Noun 26 27 eyes\n",
      "1882071534088494249 Noun 31 34 predominates the whole\n",
      "1882071534088494249 Noun 32 34 the whole\n",
      "1882071534088494249 Noun 33 34 whole\n",
      "1882071534088494249 Noun 34 37 of her sex\n",
      "1882071534088494249 Noun 35 37 her sex\n",
      "1882071534088494249 Noun 36 37 sex\n",
      "1882071534088494249 Noun 43 46 felt any emotion\n",
      "1882071534088494249 Noun 44 46 any emotion\n",
      "1882071534088494249 Noun 45 46 emotion\n",
      "1882071534088494249 Noun 54 56 All emotions\n",
      "1882071534088494249 Noun 55 56 emotions\n",
      "1882071534088494249 Noun 71 74 admirably balanced mind\n",
      "1882071534088494249 Noun 72 74 balanced mind\n",
      "1882071534088494249 Noun 73 74 mind\n",
      "1882071534088494249 Noun 84 87 most perfect reasoning\n",
      "1882071534088494249 Noun 85 87 perfect reasoning\n",
      "1882071534088494249 Noun 86 87 reasoning\n",
      "1882071534088494249 Noun 87 90 and observing machine\n",
      "1882071534088494249 Noun 88 90 observing machine\n",
      "1882071534088494249 Noun 89 90 machine\n",
      "1882071534088494249 Noun 92 94 the world\n",
      "1882071534088494249 Noun 93 94 world\n",
      "1882071534088494249 Noun 98 101 as a lover\n",
      "1882071534088494249 Noun 99 101 a lover\n",
      "1882071534088494249 Noun 100 101 lover\n",
      "1882071534088494249 Noun 109 111 false position\n",
      "1882071534088494249 Noun 110 111 position\n",
      "1882071534088494249 Noun 116 119 the softer passions\n",
      "1882071534088494249 Noun 117 119 softer passions\n",
      "1882071534088494249 Noun 118 119 passions\n",
      "1882071534088494249 Noun 121 124 with a gibe\n",
      "1882071534088494249 Noun 122 124 a gibe\n",
      "1882071534088494249 Noun 123 124 gibe\n",
      "1882071534088494249 Noun 125 128 and a sneer\n",
      "1882071534088494249 Noun 126 128 a sneer\n",
      "1882071534088494249 Noun 127 128 sneer\n",
      "1882071534088494249 Noun 130 133 were admirable things\n",
      "1882071534088494249 Noun 131 133 admirable things\n",
      "1882071534088494249 Noun 132 133 things\n",
      "1882071534088494249 Noun 133 136 for the observer\n",
      "1882071534088494249 Noun 134 136 the observer\n",
      "1882071534088494249 Noun 135 136 observer\n",
      "1882071534088494249 Noun 140 143 drawing the veil\n",
      "1882071534088494249 Noun 141 143 the veil\n",
      "1882071534088494249 Noun 142 143 veil\n",
      "1882071534088494249 Noun 142 145 veil from men\n",
      "1882071534088494249 Noun 143 145 from men\n",
      "1882071534088494249 Noun 144 145 men\n",
      "1882071534088494249 Noun 146 147 motives\n",
      "1882071534088494249 Noun 146 149 motives and actions\n",
      "1882071534088494249 Noun 147 149 and actions\n",
      "1882071534088494249 Noun 148 149 actions\n",
      "1882071534088494249 Noun 155 156 reasoner\n",
      "1882071534088494249 Noun 157 160 admit such intrusions\n",
      "1882071534088494249 Noun 158 160 such intrusions\n",
      "1882071534088494249 Noun 159 160 intrusions\n",
      "1882071534088494249 Noun 167 169 adjusted temperament\n",
      "1882071534088494249 Noun 168 169 temperament\n",
      "1882071534088494249 Noun 172 175 a distracting factor\n",
      "1882071534088494249 Noun 173 175 distracting factor\n",
      "1882071534088494249 Noun 174 175 factor\n",
      "1882071534088494249 Noun 178 181 throw a doubt\n",
      "1882071534088494249 Noun 179 181 a doubt\n",
      "1882071534088494249 Noun 180 181 doubt\n",
      "1882071534088494249 Noun 183 186 his mental results\n",
      "1882071534088494249 Noun 184 186 mental results\n",
      "1882071534088494249 Noun 185 186 results\n",
      "1882071534088494249 Noun 187 188 Grit\n",
      "1882071534088494249 Noun 192 193 instrument\n",
      "1882071534088494249 Noun 194 197 or a crack\n",
      "1882071534088494249 Noun 195 197 a crack\n",
      "1882071534088494249 Noun 196 197 crack\n",
      "1882071534088494249 Noun 204 205 power\n",
      "1882071534088494249 Noun 204 206 power lenses\n",
      "1882071534088494249 Noun 205 206 lenses\n",
      "1882071534088494249 Noun 214 217 a strong emotion\n",
      "1882071534088494249 Noun 215 217 strong emotion\n",
      "1882071534088494249 Noun 216 217 emotion\n",
      "1882071534088494249 Noun 217 220 in a nature\n",
      "1882071534088494249 Noun 218 220 a nature\n",
      "1882071534088494249 Noun 219 220 nature\n",
      "1882071534088494249 Noun 229 232 but one woman\n",
      "1882071534088494249 Noun 230 232 one woman\n",
      "1882071534088494249 Noun 231 232 woman\n",
      "1882071534088494249 Noun 235 238 and that woman\n",
      "1882071534088494249 Noun 236 238 that woman\n",
      "1882071534088494249 Noun 237 238 woman\n",
      "1882071534088494249 Noun 247 250 and questionable memory\n",
      "1882071534088494249 Noun 248 250 questionable memory\n",
      "1882071534088494249 Noun 249 250 memory\n"
     ]
    }
   ],
   "source": [
    "sherlock_holmes_part_of_text = read_text_file(\"../data/sherlock_holmes_1.txt\")\n",
    "doc = small_model(sherlock_holmes_part_of_text)\n",
    "matches = matcher(doc)\n",
    "for match_id, start, end in matches:\n",
    "    string_id = small_model.vocab.strings[match_id]\n",
    "    span = doc[start:end]\n",
    "    print(match_id, string_id, start, end, span.text)"
   ]
  },
  {
   "cell_type": "code",
   "execution_count": 7,
   "id": "6e71be7e",
   "metadata": {},
   "outputs": [],
   "source": [
    "def is_span_noun_chunk(span, doc):\n",
    "    for noun_chunk in doc.noun_chunks:\n",
    "        if span.start == noun_chunk.start and span.end == noun_chunk.end:\n",
    "            return True\n",
    "    return False"
   ]
  },
  {
   "cell_type": "code",
   "execution_count": 8,
   "id": "f7be3e83",
   "metadata": {},
   "outputs": [
    {
     "name": "stdout",
     "output_type": "stream",
     "text": [
      "1882071534088494249 Noun 20 23 any other name\n",
      "1882071534088494249 Noun 25 27 his eyes\n",
      "1882071534088494249 Noun 32 34 the whole\n",
      "1882071534088494249 Noun 35 37 her sex\n",
      "1882071534088494249 Noun 44 46 any emotion\n",
      "1882071534088494249 Noun 54 56 All emotions\n",
      "1882071534088494249 Noun 92 94 the world\n",
      "1882071534088494249 Noun 99 101 a lover\n",
      "1882071534088494249 Noun 116 119 the softer passions\n",
      "1882071534088494249 Noun 122 124 a gibe\n",
      "1882071534088494249 Noun 126 128 a sneer\n",
      "1882071534088494249 Noun 131 133 admirable things\n",
      "1882071534088494249 Noun 134 136 the observer\n",
      "1882071534088494249 Noun 141 143 the veil\n",
      "1882071534088494249 Noun 148 149 actions\n",
      "1882071534088494249 Noun 158 160 such intrusions\n",
      "1882071534088494249 Noun 172 175 a distracting factor\n",
      "1882071534088494249 Noun 179 181 a doubt\n",
      "1882071534088494249 Noun 187 188 Grit\n",
      "1882071534088494249 Noun 195 197 a crack\n",
      "1882071534088494249 Noun 214 217 a strong emotion\n",
      "1882071534088494249 Noun 218 220 a nature\n",
      "1882071534088494249 Noun 230 232 one woman\n",
      "1882071534088494249 Noun 236 238 that woman\n"
     ]
    }
   ],
   "source": [
    "for match_id, start, end in matches:\n",
    "    string_id = small_model.vocab.strings[match_id]\n",
    "    span = doc[start:end]\n",
    "    if is_span_noun_chunk(span, doc):\n",
    "        print(match_id, string_id, start, end, span.text)"
   ]
  }
 ],
 "metadata": {
  "kernelspec": {
   "display_name": "Python 3 (ipykernel)",
   "language": "python",
   "name": "python3"
  },
  "language_info": {
   "codemirror_mode": {
    "name": "ipython",
    "version": 3
   },
   "file_extension": ".py",
   "mimetype": "text/x-python",
   "name": "python",
   "nbconvert_exporter": "python",
   "pygments_lexer": "ipython3",
   "version": "3.10.6"
  }
 },
 "nbformat": 4,
 "nbformat_minor": 5
}
