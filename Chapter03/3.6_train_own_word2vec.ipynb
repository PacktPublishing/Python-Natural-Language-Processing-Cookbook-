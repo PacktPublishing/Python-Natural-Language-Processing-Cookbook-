{
 "cells": [
  {
   "cell_type": "code",
   "execution_count": 17,
   "id": "85bf9389",
   "metadata": {},
   "outputs": [],
   "source": [
    "import gensim\n",
    "from gensim.models import Word2Vec\n",
    "from datasets import load_dataset\n",
    "from gensim import utils"
   ]
  },
  {
   "cell_type": "code",
   "execution_count": 10,
   "id": "4d38e659",
   "metadata": {},
   "outputs": [
    {
     "name": "stderr",
     "output_type": "stream",
     "text": [
      "Found cached dataset rotten_tomatoes (/home/zhenya/.cache/huggingface/datasets/rotten_tomatoes/default/1.0.0/40d411e45a6ce3484deed7cc15b82a53dad9a72aafd9f86f8f227134bec5ca46)\n",
      "Found cached dataset rotten_tomatoes (/home/zhenya/.cache/huggingface/datasets/rotten_tomatoes/default/1.0.0/40d411e45a6ce3484deed7cc15b82a53dad9a72aafd9f86f8f227134bec5ca46)\n"
     ]
    }
   ],
   "source": [
    "train_dataset = load_dataset(\"rotten_tomatoes\", split=\"train\")\n",
    "test_dataset = load_dataset(\"rotten_tomatoes\", split=\"test[:15%]+test[-15%:]\")"
   ]
  },
  {
   "cell_type": "code",
   "execution_count": 28,
   "id": "f8951f81",
   "metadata": {},
   "outputs": [],
   "source": [
    "class RottenTomatoesCorpus:\n",
    "\n",
    "    def __init__(self, sentences):\n",
    "        self.sentences = sentences\n",
    "    \n",
    "    def __iter__(self):\n",
    "        for review in self.sentences:\n",
    "            yield utils.simple_preprocess(gensim.parsing.preprocessing.remove_stopwords(review))"
   ]
  },
  {
   "cell_type": "code",
   "execution_count": 47,
   "id": "ce21a5ed",
   "metadata": {},
   "outputs": [],
   "source": [
    "sentences = train_dataset[\"text\"]\n",
    "corpus = RottenTomatoesCorpus(sentences)\n",
    "model = Word2Vec(sentences=corpus, vector_size=100, window=5, min_count=1, workers=4)\n",
    "model.train(corpus_iterable=corpus, total_examples=model.corpus_count, epochs=100)\n",
    "model.save(\"../data/rotten_tomato_word2vec.model\")"
   ]
  },
  {
   "cell_type": "code",
   "execution_count": 49,
   "id": "de1dd6d2",
   "metadata": {},
   "outputs": [
    {
     "name": "stdout",
     "output_type": "stream",
     "text": [
      "[('film', 0.3612231910228729), ('sequels', 0.3304227888584137), ('happens', 0.2819836139678955), ('numbing', 0.27730050683021545), ('everybody', 0.2759988605976105), ('arnold', 0.27314382791519165), ('xxx', 0.2719603180885315), ('treacle', 0.2718634009361267), ('hellish', 0.270719051361084), ('later', 0.26994776725769043)]\n"
     ]
    }
   ],
   "source": [
    "w1 = \"movie\"\n",
    "words = model.wv.most_similar(w1, topn=10)\n",
    "print(words)"
   ]
  },
  {
   "cell_type": "code",
   "execution_count": null,
   "id": "e678b165",
   "metadata": {},
   "outputs": [],
   "source": []
  }
 ],
 "metadata": {
  "kernelspec": {
   "display_name": "Python 3 (ipykernel)",
   "language": "python",
   "name": "python3"
  },
  "language_info": {
   "codemirror_mode": {
    "name": "ipython",
    "version": 3
   },
   "file_extension": ".py",
   "mimetype": "text/x-python",
   "name": "python",
   "nbconvert_exporter": "python",
   "pygments_lexer": "ipython3",
   "version": "3.10.6"
  }
 },
 "nbformat": 4,
 "nbformat_minor": 5
}
