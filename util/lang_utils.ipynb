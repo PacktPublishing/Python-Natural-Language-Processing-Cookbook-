{
 "cells": [
  {
   "cell_type": "code",
   "execution_count": 1,
   "id": "a7f18f06",
   "metadata": {},
   "outputs": [],
   "source": [
    "import nltk\n",
    "import spacy\n",
    "small_model = spacy.load(\"en_core_web_sm\")"
   ]
  },
  {
   "cell_type": "markdown",
   "id": "37db5d80",
   "metadata": {},
   "source": [
    "# Tokenization"
   ]
  },
  {
   "cell_type": "code",
   "execution_count": 2,
   "id": "5962079c",
   "metadata": {},
   "outputs": [],
   "source": [
    "# Downloads if necessary\n",
    "#nltk.download('punkt')\n",
    "#!python -m spacy download en_core_web_sm\n",
    "#nltk.download('averaged_perceptron_tagger')"
   ]
  },
  {
   "cell_type": "code",
   "execution_count": 3,
   "id": "018907eb",
   "metadata": {},
   "outputs": [],
   "source": [
    "def word_tokenize_nltk(text):\n",
    "    return nltk.tokenize.word_tokenize(text)\n",
    "\n",
    "def word_tokenize_spacy(text, model):\n",
    "    doc = model(text)\n",
    "    return [token.text for token in doc]"
   ]
  }
 ],
 "metadata": {
  "kernelspec": {
   "display_name": "Python 3 (ipykernel)",
   "language": "python",
   "name": "python3"
  },
  "language_info": {
   "codemirror_mode": {
    "name": "ipython",
    "version": 3
   },
   "file_extension": ".py",
   "mimetype": "text/x-python",
   "name": "python",
   "nbconvert_exporter": "python",
   "pygments_lexer": "ipython3",
   "version": "3.10.6"
  }
 },
 "nbformat": 4,
 "nbformat_minor": 5
}
